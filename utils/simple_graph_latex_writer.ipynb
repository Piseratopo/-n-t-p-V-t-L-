{
 "cells": [
  {
   "cell_type": "code",
   "execution_count": 9,
   "id": "33b53e00",
   "metadata": {},
   "outputs": [],
   "source": [
    "# %pip install sympy"
   ]
  },
  {
   "cell_type": "code",
   "execution_count": 10,
   "id": "f92efece",
   "metadata": {},
   "outputs": [],
   "source": [
    "from simple_graph_latex_writer import write_graph_code, write_scatter_plot_latex"
   ]
  },
  {
   "cell_type": "code",
   "execution_count": 12,
   "id": "e3fea170",
   "metadata": {},
   "outputs": [],
   "source": [
    "latex_output_file = \"output.tex\"\n",
    "\n",
    "write_graph_code(\n",
    "   latex_output_file,\n",
    "   [\"(1 - 2 / (x + 4)) * (1 + 2 / (x + 1))\"],\n",
    "   x_clip=(-8, 4),\n",
    "   y_clip=(-4, 4),\n",
    "   samples=[-6.6, -5.5, -4.4, -2, -2.5, -3, 0, 1.1, 2.2, 3.3],\n",
    "   decimal=True,\n",
    "   y_label=\"f(x)\",\n",
    "   colors=[\"colorEmphasisCyan\"]\n",
    ")\n",
    "\n",
    "# write_scatter_plot_latex(\n",
    "#    latex_output_file,\n",
    "#    x_clip=(-4, 4),\n",
    "#    y_clip=(-4, 4),\n",
    "#    caption=r\"$f(x)$\",\n",
    "#    points=[],\n",
    "#    decimal=False,\n",
    "#    color=\"colorEmphasisCyan\",\n",
    "#    y_label=r\"f(x)\",\n",
    "# )"
   ]
  },
  {
   "cell_type": "code",
   "execution_count": null,
   "id": "41b491f8",
   "metadata": {},
   "outputs": [],
   "source": [
    "# def write_simple_inequality(file, function1, function2, x_clip, y_clip):\n",
    "#    color_order = [\"colorEmphasisCyan\", \"colorEmphasis\"]\n",
    "\n",
    "#    with open(file, \"w\") as f:\n",
    "#       write_line(f, r\"begin{figure}[H]\")\n",
    "#       write_line(f, \"centering\", 1)\n",
    "#       write_line(f, r\"begin{tikzpicture}\", 1)\n",
    "   \n",
    "#       # write_line(f, f\"clip ({x_clip[0] - 0.5}, {y_clip[0]}) rectangle ({x_clip[1] + 0.5}, {y_clip[1] + 0.5});\")\n",
    "#       write_line(f, f\"draw[->] ({x_clip[0]}, 0) -- ({x_clip[1]}, 0) node[right] \" + \"{$x$};\", 2)\n",
    "#       write_line(f, f\"draw[->] (0, {y_clip[0]}) -- (0, {y_clip[1]})  node[above] \" + \"{$y$};\", 2)\n",
    "\n",
    "#       x = symbols('x')\n",
    "\n",
    "#       # Get the fitting drawing range\n",
    "#       equation = Eq(eval(function1), y_clip[0])\n",
    "#       solutions = solve(equation, x)\n",
    "#       solutions = [sol.evalf() for sol in solutions if sol.is_real]\n",
    "#       left_end1 = solutions[0]\n",
    "\n",
    "#       equation = Eq(eval(function1), y_clip[1])\n",
    "#       solutions = solve(equation, x)\n",
    "#       solutions = [sol.evalf() for sol in solutions if sol.is_real]\n",
    "#       right_end1 = solutions[0]\n",
    "\n",
    "#       func1 = function1.replace(\"x\", r\"(\\x)\").replace(\"**\", \"^\")\n",
    "#       write_line(f, f\"draw[graph thickness, color={color_order[0]}, domain={format(left_end1, \".3f\")}:{format(right_end1, \".3f\")}] plot \" + r\"(\\x, {\" + func1 + r\"});\", 2)\n",
    "\n",
    "#       # func2 = function2.replace(\"x\", r\"(\\x)\").replace(\"**\", \"^\")\n",
    "#       # write_line(f, f\"draw[graph thickness, color={color_order[0]}, domain={format(left_end, \".3f\")}:{format(right_end, \".3f\")}] plot \" + r\"(\\x, {\" + func2 + r\"});\", 2)\n",
    "\n",
    "#       write_line(f, r\"end{tikzpicture}\", 1)\n",
    "#       write_line(f, r\"end{figure}\")"
   ]
  }
 ],
 "metadata": {
  "kernelspec": {
   "display_name": "venv",
   "language": "python",
   "name": "python3"
  },
  "language_info": {
   "codemirror_mode": {
    "name": "ipython",
    "version": 3
   },
   "file_extension": ".py",
   "mimetype": "text/x-python",
   "name": "python",
   "nbconvert_exporter": "python",
   "pygments_lexer": "ipython3",
   "version": "3.11.10"
  }
 },
 "nbformat": 4,
 "nbformat_minor": 5
}
